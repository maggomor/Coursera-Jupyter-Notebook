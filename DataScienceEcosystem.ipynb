{
 "cells": [
  {
   "cell_type": "markdown",
   "id": "dc19d988",
   "metadata": {},
   "source": [
    "# Data Science Tools and Ecosystems "
   ]
  },
  {
   "cell_type": "markdown",
   "id": "82fa2b87",
   "metadata": {},
   "source": [
    "In this notebook, Data Science Tools and Ecosystem are summarized."
   ]
  },
  {
   "cell_type": "markdown",
   "id": "cf9df3e6",
   "metadata": {},
   "source": [
    "## Author\n",
    "name: Marco Molitor"
   ]
  },
  {
   "cell_type": "markdown",
   "id": "f755c04a",
   "metadata": {},
   "source": [
    "**Objectives:**\n",
    "* List popular languages for Data Scientists\n",
    "* List libraries used by Data Scientists\n",
    "* Give example of how to perform basic arithmetics"
   ]
  },
  {
   "cell_type": "markdown",
   "id": "c7dd98cc",
   "metadata": {},
   "source": [
    "Some of the popular languages that Data Scientists use are:\n",
    "1. Python\n",
    "2. R \n",
    "3. Scala\n",
    "4. Java\n",
    "5. C++\n",
    "6. Julia\n"
   ]
  },
  {
   "cell_type": "markdown",
   "id": "a06e164d",
   "metadata": {},
   "source": [
    "Some of the commonly used libraries used by Data Scientists include:\n",
    "1. Scikit-Learn\n",
    "2. TensorFlow\n",
    "3. PyTorch\n",
    "4. Caret\n",
    "5. Pandas\n",
    "6. Numpy"
   ]
  },
  {
   "cell_type": "markdown",
   "id": "30fe6f0c",
   "metadata": {},
   "source": [
    "| Data Science Tools |\n",
    "| --- \n",
    "| JupyterLab |\n",
    "| VSCode |\n",
    "| Anaconda |"
   ]
  },
  {
   "cell_type": "markdown",
   "id": "f0b38c41",
   "metadata": {},
   "source": [
    "### Below are a few examples of evaluating arithmetic expressions in Python"
   ]
  },
  {
   "cell_type": "code",
   "execution_count": 1,
   "id": "981af48f",
   "metadata": {},
   "outputs": [
    {
     "data": {
      "text/plain": [
       "17"
      ]
     },
     "execution_count": 1,
     "metadata": {},
     "output_type": "execute_result"
    }
   ],
   "source": [
    "# This is a simple arithmetic expression to multiply then add integers\n",
    "(3*4)+5"
   ]
  },
  {
   "cell_type": "code",
   "execution_count": 3,
   "id": "91cd864e",
   "metadata": {},
   "outputs": [
    {
     "name": "stdout",
     "output_type": "stream",
     "text": [
      "The equivalent of 200 minutes are 3.3333333333333335 hours.\n"
     ]
    }
   ],
   "source": [
    "# This will convert 200 minutes to hours by dividing by 60.\n",
    "print(f\"The equivalent of 200 minutes are {200/60} hours.\")"
   ]
  },
  {
   "cell_type": "markdown",
   "id": "685bcfd5",
   "metadata": {},
   "source": []
  }
 ],
 "metadata": {
  "kernelspec": {
   "display_name": "Python 3 (ipykernel)",
   "language": "python",
   "name": "python3"
  },
  "language_info": {
   "codemirror_mode": {
    "name": "ipython",
    "version": 3
   },
   "file_extension": ".py",
   "mimetype": "text/x-python",
   "name": "python",
   "nbconvert_exporter": "python",
   "pygments_lexer": "ipython3",
   "version": "3.10.9"
  }
 },
 "nbformat": 4,
 "nbformat_minor": 5
}
